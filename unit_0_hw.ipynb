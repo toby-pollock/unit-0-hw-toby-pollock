{
 "cells": [
  {
   "cell_type": "markdown",
   "metadata": {},
   "source": [
    "# Welcome to your first homework!\n",
    "\n",
    "The goal of this homework is to get you familar with how to gain access to your homeworks, fill them out and submit them. \n",
    "\n",
    "Thankfully if you have this homework on your local computer, then you are a good chunk of the way there!\n",
    "\n",
    "This file is a .ipynb file, a python notebook file. It lets us do some interesting thing. There are two main types of block that appear in a python notebook. The first block is a `markdown` block, that is where this text lives. Markdown is a industry standard formatting language often used in readme.md files (the .md stands for markdown). Markdown is great for explaining code blocks or adding a description under a block of code. You can look up different ways to format text in a markdown block online. You can also click this block to see how I formatted it. To see the formatted text you hit the Run All button on the top (assuming you are in VSCode). \n",
    "\n",
    "Before - or when you run, your text editor may ask you to pick an environment to run the notebook in. You should select the `.venv` environment we created in the readme.md file. "
   ]
  },
  {
   "cell_type": "markdown",
   "metadata": {},
   "source": [
    "## Problem Sets\n",
    "\n",
    "Your homework is graded through functions I provide in these notebooks. If you edit the functions name or arguments you may run into issues. Most of the time the function will also need a return value - the return value is what is usually graded. \n",
    "\n",
    "Lets try one together below."
   ]
  },
  {
   "cell_type": "code",
   "execution_count": null,
   "metadata": {},
   "outputs": [],
   "source": [
    "# Example of a homework function, this one is already filled out for you so the text below does not need to be completed.\n",
    "\n",
    "def add_3(x):\n",
    "    '''\n",
    "    Returns the passed in value incremented by 3\n",
    "\n",
    "    parameter: number | x\n",
    "    return: number\n",
    "    '''\n",
    "    return x + 3 # Done!"
   ]
  },
  {
   "cell_type": "markdown",
   "metadata": {},
   "source": [
    "The above function is done for you. You can see that we are passing this one test by running `pytest` in terminal. Note you your current working directly has to be this folder for it to work. You will also need to create a virtual environment and have it active. These instructions are in the readme.md file provided. \n",
    "\n",
    "Go ahead and run `pytest` you should see something similar to this: \n",
    "\n",
    "![](./images/pytest-1.png)\n",
    "\n",
    "This image shows that you are passing one test (the 1 above) and failing 1 test (the one below). Your screen may be showing that you are failing more tests (since the future me is going to make them). You can always scroll up to see what test you are passing and which you are failing. It is also hard to see in our example, but you can see how many you are passing with the line `hwm_hw.py .F`\n",
    "\n",
    "The dot denotes passing, the F means failing.\n",
    "\n",
    "The tests will be open to you to view, but they cannot and should not be edited. This way you know how you are being tested (and helps me find bugs). You can see them in `test_hw.py`.\n",
    "\n",
    "Go ahead and try solving the homework problem below"
   ]
  },
  {
   "cell_type": "code",
   "execution_count": 4,
   "metadata": {},
   "outputs": [],
   "source": [
    "def add_5(y):\n",
    "    '''\n",
    "    Returns the passed in value incremented by 5\n",
    "\n",
    "    parameter: number y\n",
    "    return number\n",
    "    '''\n",
    "    return add_3(y+2)"
   ]
  },
  {
   "cell_type": "markdown",
   "metadata": {},
   "source": [
    "Once you are done with the above code you can run pytest again. Are you passing 2 tests now?\n",
    "\n",
    "Since only the function is graded, you can make calls to the function inside of your notebook without any issues. This may help with debugging what is inside your function. Here is an example below - you can run this block by pressing the run triangle in VScode:"
   ]
  },
  {
   "cell_type": "code",
   "execution_count": 6,
   "metadata": {},
   "outputs": [
    {
     "ename": "NameError",
     "evalue": "name 'add_3' is not defined",
     "output_type": "error",
     "traceback": [
      "\u001b[1;31m---------------------------------------------------------------------------\u001b[0m",
      "\u001b[1;31mNameError\u001b[0m                                 Traceback (most recent call last)",
      "Cell \u001b[1;32mIn[6], line 5\u001b[0m\n\u001b[0;32m      1\u001b[0m \u001b[38;5;66;03m# This is not graded, since it is not in the function definition.\u001b[39;00m\n\u001b[0;32m      2\u001b[0m \u001b[38;5;66;03m# This also means you can create your own functions and use them in the graded functions\u001b[39;00m\n\u001b[0;32m      4\u001b[0m num_list \u001b[38;5;241m=\u001b[39m \u001b[38;5;28mlist\u001b[39m(\u001b[38;5;28mrange\u001b[39m(\u001b[38;5;241m-\u001b[39m\u001b[38;5;241m2\u001b[39m, \u001b[38;5;241m5\u001b[39m, \u001b[38;5;241m1\u001b[39m))\n\u001b[1;32m----> 5\u001b[0m \u001b[38;5;28mprint\u001b[39m(\u001b[43madd_3\u001b[49m(\u001b[38;5;241m5\u001b[39m))\n\u001b[0;32m      6\u001b[0m \u001b[38;5;28;01mfor\u001b[39;00m num \u001b[38;5;129;01min\u001b[39;00m num_list:\n\u001b[0;32m      7\u001b[0m     \u001b[38;5;28mprint\u001b[39m(\u001b[38;5;124mf\u001b[39m\u001b[38;5;124m\"\u001b[39m\u001b[38;5;132;01m{\u001b[39;00mnum\u001b[38;5;132;01m}\u001b[39;00m\u001b[38;5;124m + 3 = \u001b[39m\u001b[38;5;132;01m{\u001b[39;00madd_3(num)\u001b[38;5;132;01m}\u001b[39;00m\u001b[38;5;124m\"\u001b[39m)\n",
      "\u001b[1;31mNameError\u001b[0m: name 'add_3' is not defined"
     ]
    }
   ],
   "source": [
    "# This is not graded, since it is not in the function definition.\n",
    "# This also means you can create your own functions and use them in the graded functions\n",
    "\n",
    "num_list = list(range(-2, 5, 1))\n",
    "for num in num_list:\n",
    "    print(f\"{num} + 3 = {add_3(num)}\")\n",
    "    print(f\"{num} + 5 = {add_5(num)}\")"
   ]
  },
  {
   "cell_type": "markdown",
   "metadata": {},
   "source": [
    "Alright lets try a few more"
   ]
  },
  {
   "cell_type": "code",
   "execution_count": null,
   "metadata": {},
   "outputs": [],
   "source": [
    "def append_smiley_face(a_string):\n",
    "    '''\n",
    "    Returns the passed in string with a smiley face\n",
    "\n",
    "    parameter: string a_string\n",
    "    return string\n",
    "\n",
    "    This function should append the text \" :)\" to the end of the string\n",
    "    passed in. This gives a more pleasant tone to the text.\n",
    "    '''\n",
    "    return a_string + \" :)\""
   ]
  },
  {
   "cell_type": "code",
   "execution_count": 9,
   "metadata": {},
   "outputs": [
    {
     "data": {
      "text/plain": [
       "1.0"
      ]
     },
     "execution_count": 9,
     "metadata": {},
     "output_type": "execute_result"
    }
   ],
   "source": [
    "def average(series : list): # Note the : list is a type hint \n",
    "    '''\n",
    "    Returns the average of a list passed in\n",
    "\n",
    "    Accumulate the numbers in the list then divide by the length of the list\n",
    "\n",
    "    parameter: list series\n",
    "    returns number\n",
    "    '''\n",
    "    total = 0\n",
    "    error_values = []\n",
    "    for i in series:\n",
    "        try:\n",
    "            total += i\n",
    "        except:\n",
    "            error_values.append(i)\n",
    "    if error_values != []:\n",
    "        print(\"Warning: the following values given are not numbers:\\n\")\n",
    "        print(error_values)\n",
    "    return total / len(series)"
   ]
  },
  {
   "cell_type": "markdown",
   "metadata": {},
   "source": [
    "Run pytest again. Once you are done passing all tests, you can move to the next step. If things don't seem to be working - reach out to your instructor!\n",
    "\n",
    "Go ahead and read the rest of the readme.md to learn how to submit your homework. There will also be a video guide on your course page.\n",
    "\n",
    "Once submitted you can check your homework online using the link you used to clone this repo."
   ]
  }
 ],
 "metadata": {
  "kernelspec": {
   "display_name": ".venv",
   "language": "python",
   "name": "python3"
  },
  "language_info": {
   "codemirror_mode": {
    "name": "ipython",
    "version": 3
   },
   "file_extension": ".py",
   "mimetype": "text/x-python",
   "name": "python",
   "nbconvert_exporter": "python",
   "pygments_lexer": "ipython3",
   "version": "3.12.2"
  }
 },
 "nbformat": 4,
 "nbformat_minor": 2
}
